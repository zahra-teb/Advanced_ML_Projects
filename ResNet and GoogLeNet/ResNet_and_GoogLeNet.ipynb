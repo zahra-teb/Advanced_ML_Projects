{
  "nbformat": 4,
  "nbformat_minor": 0,
  "metadata": {
    "colab": {
      "provenance": [],
      "gpuType": "T4"
    },
    "kernelspec": {
      "name": "python3",
      "display_name": "Python 3"
    },
    "language_info": {
      "name": "python"
    },
    "accelerator": "GPU"
  },
  "cells": [
    {
      "cell_type": "code",
      "execution_count": 1,
      "metadata": {
        "id": "yr8RIIlq-q1G"
      },
      "outputs": [],
      "source": [
        "import numpy as np\n",
        "import torch\n",
        "import torch.nn as nn\n",
        "from torchvision import datasets\n",
        "from torchvision import transforms\n",
        "from torch.utils.data.sampler import SubsetRandomSampler"
      ]
    },
    {
      "cell_type": "code",
      "source": [
        "device = torch.device('cuda' if torch.cuda.is_available() else 'cpu')"
      ],
      "metadata": {
        "id": "fyZqFKMdO3RV"
      },
      "execution_count": 2,
      "outputs": []
    },
    {
      "cell_type": "markdown",
      "source": [
        "### DataLoader and Dataset"
      ],
      "metadata": {
        "id": "M44iOjP6PSkO"
      }
    },
    {
      "cell_type": "code",
      "source": [
        "def data_loader(data_dir,\n",
        "                batch_size,\n",
        "                random_seed=42,\n",
        "                valid_size=0.1,\n",
        "                shuffle=True,\n",
        "                test=False):\n",
        "\n",
        "    normalize = transforms.Normalize(\n",
        "        mean=[0.4914, 0.4822, 0.4465],\n",
        "        std=[0.2023, 0.1994, 0.2010],\n",
        "    )\n",
        "\n",
        "    # define transforms\n",
        "    transform = transforms.Compose([\n",
        "            transforms.Resize((224,224)),\n",
        "            transforms.ToTensor(),\n",
        "            normalize,\n",
        "    ])\n",
        "\n",
        "    if test:\n",
        "        dataset = datasets.CIFAR10(\n",
        "          root=data_dir, train=False,\n",
        "          download=True, transform=transform,\n",
        "        )\n",
        "\n",
        "        data_loader = torch.utils.data.DataLoader(\n",
        "            dataset, batch_size=batch_size, shuffle=shuffle\n",
        "        )\n",
        "\n",
        "        return data_loader\n",
        "\n",
        "    # load the dataset\n",
        "    train_dataset = datasets.CIFAR10(\n",
        "        root=data_dir, train=True,\n",
        "        download=True, transform=transform,\n",
        "    )\n",
        "\n",
        "    valid_dataset = datasets.CIFAR10(\n",
        "        root=data_dir, train=True,\n",
        "        download=True, transform=transform,\n",
        "    )\n",
        "\n",
        "    num_train = len(train_dataset)\n",
        "    indices = list(range(num_train))\n",
        "    split = int(np.floor(valid_size * num_train))\n",
        "\n",
        "    if shuffle:\n",
        "        np.random.seed(42)\n",
        "        np.random.shuffle(indices)\n",
        "\n",
        "    train_idx, valid_idx = indices[split:], indices[:split]\n",
        "    train_sampler = SubsetRandomSampler(train_idx)\n",
        "    valid_sampler = SubsetRandomSampler(valid_idx)\n",
        "\n",
        "    train_loader = torch.utils.data.DataLoader(\n",
        "        train_dataset, batch_size=batch_size, sampler=train_sampler)\n",
        "\n",
        "    valid_loader = torch.utils.data.DataLoader(\n",
        "        valid_dataset, batch_size=batch_size, sampler=valid_sampler)\n",
        "\n",
        "    return (train_loader, valid_loader)\n"
      ],
      "metadata": {
        "id": "oRErpIc2PDky"
      },
      "execution_count": 3,
      "outputs": []
    },
    {
      "cell_type": "code",
      "source": [
        "# CIFAR10 dataset\n",
        "train_loader, valid_loader = data_loader(data_dir='./data',\n",
        "                                         batch_size=64)\n",
        "\n",
        "test_loader = data_loader(data_dir='./data',\n",
        "                              batch_size=64,\n",
        "                              test=True)"
      ],
      "metadata": {
        "colab": {
          "base_uri": "https://localhost:8080/"
        },
        "id": "o43OHDL7fEjo",
        "outputId": "54e76288-1381-4494-c338-2e3a0da3ea2c"
      },
      "execution_count": 4,
      "outputs": [
        {
          "output_type": "stream",
          "name": "stdout",
          "text": [
            "Downloading https://www.cs.toronto.edu/~kriz/cifar-10-python.tar.gz to ./data/cifar-10-python.tar.gz\n"
          ]
        },
        {
          "output_type": "stream",
          "name": "stderr",
          "text": [
            "100%|██████████| 170498071/170498071 [00:03<00:00, 48302898.49it/s]\n"
          ]
        },
        {
          "output_type": "stream",
          "name": "stdout",
          "text": [
            "Extracting ./data/cifar-10-python.tar.gz to ./data\n",
            "Files already downloaded and verified\n",
            "Files already downloaded and verified\n"
          ]
        }
      ]
    },
    {
      "cell_type": "markdown",
      "source": [
        "### GoogleNet Implementation"
      ],
      "metadata": {
        "id": "QcyMhaqtsgqY"
      }
    },
    {
      "cell_type": "code",
      "source": [
        "class ConvBlock(nn.Module):\n",
        "    def __init__(self, in_channels, out_channels, **kwargs):\n",
        "        super(ConvBlock,self).__init__()\n",
        "        self.conv= nn.Conv2d(in_channels, out_channels, **kwargs)\n",
        "        self.BatchNorm= nn.BatchNorm2d(out_channels)\n",
        "        self.relu = nn.ReLU()\n",
        "    def forward(self,x):\n",
        "        return self.relu(self.BatchNorm(self.conv(x)))"
      ],
      "metadata": {
        "id": "Y5B3CcHFsv8C"
      },
      "execution_count": 5,
      "outputs": []
    },
    {
      "cell_type": "code",
      "source": [
        "class InceptionBlock(nn.Module):\n",
        "    def __init__(self, in_channels ,n1x1, reducer3x3, n3x3, reducer5x5, n5x5, pool_planes):\n",
        "        super(InceptionBlock,self).__init__()\n",
        "        self.oneIncetion = ConvBlock(in_channels, n1x1, kernel_size=1)\n",
        "        self.threeInception = nn.Sequential(\n",
        "            ConvBlock(in_channels, reducer3x3, kernel_size=1),\n",
        "            ConvBlock(reducer3x3, n3x3, kernel_size=(3,3), padding=1)\n",
        "        )\n",
        "        self.fiveInception= nn.Sequential(\n",
        "            ConvBlock(in_channels, reducer5x5, kernel_size=1),\n",
        "            ConvBlock(reducer5x5, n5x5, kernel_size=5, padding=2)\n",
        "        )\n",
        "        self.poolInception= nn.Sequential(\n",
        "            nn.MaxPool2d(kernel_size=3, stride=1, padding=1),\n",
        "            ConvBlock(in_channels, pool_planes, kernel_size=1)\n",
        "        )\n",
        "    def forward(self,x):\n",
        "        return torch.cat([self.oneIncetion(x), self.threeInception(x), self.fiveInception(x), self.poolInception(x)],1)"
      ],
      "metadata": {
        "id": "JNNZIQahsyct"
      },
      "execution_count": 6,
      "outputs": []
    },
    {
      "cell_type": "code",
      "source": [
        "class GoogLeNet(nn.Module):\n",
        "    def __init__(self, in_channels, num_classes = 10):\n",
        "        super(GoogLeNet, self).__init__()\n",
        "        self.ConvLayer1 = nn.Sequential(\n",
        "            ConvBlock(in_channels, 64, kernel_size=7, stride=2, padding=3),\n",
        "            nn.MaxPool2d(kernel_size=3, stride=2, padding=1),\n",
        "            ConvBlock(64, 192, kernel_size=3, stride=1, padding=1),\n",
        "            nn.MaxPool2d(kernel_size=3, stride=2, padding=1)\n",
        "        )\n",
        "        self.ConvLayer2 = nn.Sequential(\n",
        "            InceptionBlock(192, 64, 96, 128, 16, 32, 32),\n",
        "            InceptionBlock(256, 128, 128, 192, 32, 96, 64),\n",
        "            nn.MaxPool2d(kernel_size=3, stride=2, padding=1),\n",
        "        )\n",
        "        self.ConvLayer3= nn.Sequential(\n",
        "            InceptionBlock(480, 192, 96, 208, 16, 48, 64),\n",
        "            InceptionBlock(512, 160, 112, 224, 24, 64, 64),\n",
        "            InceptionBlock(512, 128, 128, 256, 24, 64, 64),\n",
        "            InceptionBlock(512, 112, 144, 288, 32, 64, 64),\n",
        "            InceptionBlock(528, 256, 160, 320, 32, 128, 128),\n",
        "            nn.MaxPool2d(kernel_size=3, stride=2, padding=1),\n",
        "        )\n",
        "        self.ConvLayer4= nn.Sequential(\n",
        "            InceptionBlock(832, 256, 160, 320, 32, 128, 128),\n",
        "            InceptionBlock(832, 384, 192, 384, 48, 128, 128),\n",
        "            nn.AvgPool2d(kernel_size=7, stride= 1),\n",
        "        )\n",
        "        self.fc= nn.Sequential(\n",
        "            nn.Dropout(0.4),\n",
        "            nn.Linear(1024, num_classes)\n",
        "        )\n",
        "    def forward(self,x):\n",
        "        x= self.ConvLayer1(x)\n",
        "        #print(x.size())\n",
        "        x = self.ConvLayer2(x)\n",
        "        #print(x.size())\n",
        "        x = self.ConvLayer3(x)\n",
        "        #print(x.size())\n",
        "        x = self.ConvLayer4(x)\n",
        "        #print(x.size())\n",
        "        x= x.reshape(x.shape[0],-1)\n",
        "        #print(x.size())\n",
        "        return self.fc(x)"
      ],
      "metadata": {
        "id": "PZIMSQ5rsfod"
      },
      "execution_count": 26,
      "outputs": []
    },
    {
      "cell_type": "markdown",
      "source": [
        "### ResNet Implementation"
      ],
      "metadata": {
        "id": "CxsD7uscPNrY"
      }
    },
    {
      "cell_type": "code",
      "source": [
        "class ResidualBlock(nn.Module):\n",
        "    def __init__(self, in_channels, out_channels, stride = 1, downsample = None):\n",
        "        super(ResidualBlock, self).__init__()\n",
        "        self.conv1 = nn.Sequential(\n",
        "                        nn.Conv2d(in_channels, out_channels, kernel_size = 3, stride = stride, padding = 1),\n",
        "                        nn.BatchNorm2d(out_channels),\n",
        "                        nn.ReLU())\n",
        "        self.conv2 = nn.Sequential(\n",
        "                        nn.Conv2d(out_channels, out_channels, kernel_size = 3, stride = 1, padding = 1),\n",
        "                        nn.BatchNorm2d(out_channels))\n",
        "        self.downsample = downsample\n",
        "        self.relu = nn.ReLU()\n",
        "        self.out_channels = out_channels\n",
        "\n",
        "    def forward(self, x):\n",
        "        residual = x\n",
        "        out = self.conv1(x)\n",
        "        out = self.conv2(out)\n",
        "        if self.downsample:\n",
        "            residual = self.downsample(x)\n",
        "        out += residual\n",
        "        out = self.relu(out)\n",
        "        return out"
      ],
      "metadata": {
        "id": "X5aqL-QKPHTQ"
      },
      "execution_count": null,
      "outputs": []
    },
    {
      "cell_type": "code",
      "source": [
        "class ResNet(nn.Module):\n",
        "    def __init__(self, block, layers, num_classes = 10):\n",
        "        super(ResNet, self).__init__()\n",
        "        self.inplanes = 64\n",
        "        self.conv1 = nn.Sequential(\n",
        "                        nn.Conv2d(3, 64, kernel_size = 7, stride = 2, padding = 3),\n",
        "                        nn.BatchNorm2d(64),\n",
        "                        nn.ReLU())\n",
        "        self.maxpool = nn.MaxPool2d(kernel_size = 3, stride = 2, padding = 1)\n",
        "        self.layer0 = self._make_layer(block, 64, layers[0], stride = 1)\n",
        "        self.layer1 = self._make_layer(block, 128, layers[1], stride = 2)\n",
        "        self.layer2 = self._make_layer(block, 256, layers[2], stride = 2)\n",
        "        self.layer3 = self._make_layer(block, 512, layers[3], stride = 2)\n",
        "        self.avgpool = nn.AvgPool2d(7, stride=1)\n",
        "        self.fc = nn.Linear(512, num_classes)\n",
        "\n",
        "    def _make_layer(self, block, planes, blocks, stride=1):\n",
        "        downsample = None\n",
        "        if stride != 1 or self.inplanes != planes:\n",
        "\n",
        "            downsample = nn.Sequential(\n",
        "                nn.Conv2d(self.inplanes, planes, kernel_size=1, stride=stride),\n",
        "                nn.BatchNorm2d(planes),\n",
        "            )\n",
        "        layers = []\n",
        "        layers.append(block(self.inplanes, planes, stride, downsample))\n",
        "        self.inplanes = planes\n",
        "        for i in range(1, blocks):\n",
        "            layers.append(block(self.inplanes, planes))\n",
        "\n",
        "        return nn.Sequential(*layers)\n",
        "\n",
        "\n",
        "    def forward(self, x):\n",
        "        x = self.conv1(x)\n",
        "        x = self.maxpool(x)\n",
        "        x = self.layer0(x)\n",
        "        x = self.layer1(x)\n",
        "        x = self.layer2(x)\n",
        "        x = self.layer3(x)\n",
        "\n",
        "        x = self.avgpool(x)\n",
        "        x = x.view(x.size(0), -1)\n",
        "        x = self.fc(x)\n",
        "\n",
        "        return x"
      ],
      "metadata": {
        "id": "IL0tm_gYPV-h"
      },
      "execution_count": null,
      "outputs": []
    },
    {
      "cell_type": "markdown",
      "source": [
        "### Train"
      ],
      "metadata": {
        "id": "XZ-NjPXFP13i"
      }
    },
    {
      "cell_type": "code",
      "source": [
        "import gc\n",
        "total_step = len(train_loader)\n",
        "\n",
        "def train(model, criterion, optimizer):\n",
        "  for epoch in range(num_epochs):\n",
        "    for i, (images, labels) in enumerate(train_loader):\n",
        "        # Move tensors to the configured device\n",
        "        images = images.to(device)\n",
        "        labels = labels.to(device)\n",
        "\n",
        "        # Forward pass\n",
        "        outputs = model(images)\n",
        "        loss = criterion(outputs, labels)\n",
        "\n",
        "        # Backward and optimize\n",
        "        optimizer.zero_grad()\n",
        "        loss.backward()\n",
        "        optimizer.step()\n",
        "        del images, labels, outputs\n",
        "        torch.cuda.empty_cache()\n",
        "        gc.collect()\n",
        "\n",
        "    print ('Epoch [{}/{}], Loss: {:.4f}'.format(epoch+1, num_epochs, loss.item()))\n",
        "\n",
        "    # Validation\n",
        "    with torch.no_grad():\n",
        "        correct = 0\n",
        "        total = 0\n",
        "        for images, labels in valid_loader:\n",
        "            images = images.to(device)\n",
        "            labels = labels.to(device)\n",
        "            outputs = model(images)\n",
        "            _, predicted = torch.max(outputs.data, 1)\n",
        "            total += labels.size(0)\n",
        "            correct += (predicted == labels).sum().item()\n",
        "            del images, labels, outputs\n",
        "\n",
        "        print('Accuracy of validation images: {} %'.format(100 * correct / total))"
      ],
      "metadata": {
        "id": "L19LMeWlP_jJ"
      },
      "execution_count": 9,
      "outputs": []
    },
    {
      "cell_type": "markdown",
      "source": [
        "### Test"
      ],
      "metadata": {
        "id": "DgClMZbwvBcB"
      }
    },
    {
      "cell_type": "code",
      "source": [
        "def test(model):\n",
        "  with torch.no_grad():\n",
        "    correct = 0\n",
        "    total = 0\n",
        "    for images, labels in test_loader:\n",
        "        images = images.to(device)\n",
        "        labels = labels.to(device)\n",
        "        outputs = model(images)\n",
        "        _, predicted = torch.max(outputs.data, 1)\n",
        "        total += labels.size(0)\n",
        "        correct += (predicted == labels).sum().item()\n",
        "        del images, labels, outputs\n",
        "\n",
        "    print('Accuracy of the network on the test images: {} %'.format(100 * correct / total))"
      ],
      "metadata": {
        "id": "vPUquSclvDhP"
      },
      "execution_count": 10,
      "outputs": []
    },
    {
      "cell_type": "markdown",
      "source": [
        "### GoogLeNet training and test"
      ],
      "metadata": {
        "id": "EBUs8QaG-ju0"
      }
    },
    {
      "cell_type": "code",
      "source": [
        "num_epochs = 2\n",
        "learning_rate = 0.01"
      ],
      "metadata": {
        "id": "lPKHpMzh-vXX"
      },
      "execution_count": 11,
      "outputs": []
    },
    {
      "cell_type": "code",
      "source": [
        "model_g = GoogLeNet(3).to(device)\n",
        "\n",
        "criterion_g = nn.CrossEntropyLoss()\n",
        "optimizer_g = torch.optim.SGD(model_g.parameters(), lr=learning_rate, weight_decay = 0.001, momentum = 0.9)"
      ],
      "metadata": {
        "id": "lvxxTHXi-frA"
      },
      "execution_count": 27,
      "outputs": []
    },
    {
      "cell_type": "code",
      "source": [
        "train(model_g, criterion_g, optimizer_g)"
      ],
      "metadata": {
        "colab": {
          "base_uri": "https://localhost:8080/"
        },
        "id": "bEorS-B5-v8j",
        "outputId": "09f4c9a5-43d3-4709-b124-1c2e804e8a60"
      },
      "execution_count": 28,
      "outputs": [
        {
          "output_type": "stream",
          "name": "stdout",
          "text": [
            "Epoch [1/2], Loss: 1.3748\n",
            "Accuracy of validation images: 61.06 %\n",
            "Epoch [2/2], Loss: 1.5713\n",
            "Accuracy of validation images: 73.38 %\n"
          ]
        }
      ]
    },
    {
      "cell_type": "code",
      "source": [
        "test(model_g)"
      ],
      "metadata": {
        "colab": {
          "base_uri": "https://localhost:8080/"
        },
        "id": "K3T0Yhuu-wg7",
        "outputId": "bed57dd9-c933-446f-b398-8d80695803b1"
      },
      "execution_count": 21,
      "outputs": [
        {
          "output_type": "stream",
          "name": "stdout",
          "text": [
            "Accuracy of the network on the test images: 71.27 %\n"
          ]
        }
      ]
    },
    {
      "cell_type": "markdown",
      "source": [
        "### ResNet50 training and test"
      ],
      "metadata": {
        "id": "nmaZoCW4ns3N"
      }
    },
    {
      "cell_type": "code",
      "source": [
        "model_res = ResNet(ResidualBlock, [3, 4, 6, 3]).to(device)\n",
        "\n",
        "# Loss and optimizer\n",
        "criterion_res = nn.CrossEntropyLoss()\n",
        "optimizer_res = torch.optim.SGD(model_res.parameters(), lr=learning_rate, weight_decay = 0.001, momentum = 0.9)"
      ],
      "metadata": {
        "id": "E8mYg3S7n7Bf"
      },
      "execution_count": null,
      "outputs": []
    },
    {
      "cell_type": "code",
      "source": [
        "train(model_res, criterion_res, optimizer_res)"
      ],
      "metadata": {
        "colab": {
          "base_uri": "https://localhost:8080/"
        },
        "id": "sg8APB6HoPTc",
        "outputId": "9837504c-9b0e-4722-f8d8-6c3f8fb776bd"
      },
      "execution_count": null,
      "outputs": [
        {
          "output_type": "stream",
          "name": "stdout",
          "text": [
            "Epoch [1/2], Loss: 1.3558\n",
            "Accuracy of validation images: 55.94 %\n",
            "Epoch [2/2], Loss: 1.7125\n",
            "Accuracy of validation images: 70.88 %\n"
          ]
        }
      ]
    },
    {
      "cell_type": "code",
      "source": [
        "test(model_res)"
      ],
      "metadata": {
        "colab": {
          "base_uri": "https://localhost:8080/"
        },
        "id": "cRp8xih3vU56",
        "outputId": "9e176d66-92fa-470f-9819-5ae8b07b2938"
      },
      "execution_count": null,
      "outputs": [
        {
          "output_type": "stream",
          "name": "stdout",
          "text": [
            "Accuracy of the network on the test images: 70.2 %\n"
          ]
        }
      ]
    }
  ]
}